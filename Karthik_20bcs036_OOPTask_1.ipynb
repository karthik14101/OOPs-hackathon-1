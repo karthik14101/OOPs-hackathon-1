{
  "nbformat": 4,
  "nbformat_minor": 0,
  "metadata": {
    "colab": {
      "name": "Karthik_20bcs036_OOPTask 1",
      "provenance": [],
      "authorship_tag": "ABX9TyMB+gt738VSmZv7UnBSiFwu",
      "include_colab_link": true
    },
    "kernelspec": {
      "name": "python3",
      "display_name": "Python 3"
    },
    "language_info": {
      "name": "python"
    }
  },
  "cells": [
    {
      "cell_type": "markdown",
      "metadata": {
        "id": "view-in-github",
        "colab_type": "text"
      },
      "source": [
        "<a href=\"https://colab.research.google.com/github/karthik14101/OOPs-hackathon-1/blob/main/Karthik_20bcs036_OOPTask_1.ipynb\" target=\"_parent\"><img src=\"https://colab.research.google.com/assets/colab-badge.svg\" alt=\"Open In Colab\"/></a>"
      ]
    },
    {
      "cell_type": "code",
      "metadata": {
        "colab": {
          "base_uri": "https://localhost:8080/"
        },
        "id": "E4mc1HNZdDYl",
        "outputId": "592636b7-c14d-4374-cb17-d9ce37b44797"
      },
      "source": [
        "year = int(input(\"Enter the Year: \"))\n",
        "\n",
        "def checkyear(year):\n",
        "  if(year%400 == 0):\n",
        "    print('It is a leap year')\n",
        "    return(True)\n",
        "    \n",
        "  elif(year%4==0 and year %100 != 0):\n",
        "    print('It is a leap year')\n",
        "    return(TRUE)\n",
        "    \n",
        "  else:\n",
        "    print('It is not a leap year')\n",
        "    return(False)\n",
        "    \n",
        "checkyear(year)"
      ],
      "execution_count": 3,
      "outputs": [
        {
          "output_type": "stream",
          "name": "stdout",
          "text": [
            "Enter the Year: 2050\n",
            "It is not a leap year\n"
          ]
        },
        {
          "output_type": "execute_result",
          "data": {
            "text/plain": [
              "False"
            ]
          },
          "metadata": {},
          "execution_count": 3
        }
      ]
    },
    {
      "cell_type": "code",
      "metadata": {
        "colab": {
          "base_uri": "https://localhost:8080/"
        },
        "id": "4YYoTfNaf_iK",
        "outputId": "96bfe1f9-d3e5-48ab-ed9b-bc7497cbfa18"
      },
      "source": [
        "n = int(input(\"Enter a number: \"))\n",
        "if(n%2 != 0):\n",
        "  print(\"Weird\")  \n",
        "elif(n%2 == 0):\n",
        "  if(n>= 2 and n<=5):\n",
        "    print(\"Not Weird\")\n",
        "  if(n>=6 and n<=20):\n",
        "    print(\"Weird\")\n",
        "  if(n>20):\n",
        "    print(\"Not Weird\")"
      ],
      "execution_count": 4,
      "outputs": [
        {
          "output_type": "stream",
          "name": "stdout",
          "text": [
            "Enter a number: 10\n",
            "Weird\n"
          ]
        }
      ]
    },
    {
      "cell_type": "code",
      "metadata": {
        "colab": {
          "base_uri": "https://localhost:8080/"
        },
        "id": "sBTKtXnkgKgQ",
        "outputId": "dd8a9d6c-3ab3-497a-8c11-e736eea4ddbb"
      },
      "source": [
        "n = int(input(\"Enter the number of guests: \"))\n",
        "guests = []\n",
        "for i in range(0, n):\n",
        "  name = str(input(\"enter the name of guests: \"))\n",
        "  guests.append([name])\n",
        "print(\"Guests are: \", guests)\n",
        "if(n%2==0):\n",
        "  for k in range( int((n)/2) , n-1):\n",
        "    print(\"\\nFashionable late persons are: \", guests[k])\n",
        "elif(n%2 != 0):\n",
        "  for k in range( int((n-1)/2) , n-1):\n",
        "    print(\"\\nFashionable late persons are: \", guests[k])"
      ],
      "execution_count": 5,
      "outputs": [
        {
          "output_type": "stream",
          "name": "stdout",
          "text": [
            "Enter the number of guests: 5\n",
            "enter the name of guests: karthik\n",
            "enter the name of guests: raju\n",
            "enter the name of guests: ravi\n",
            "enter the name of guests: ramesh\n",
            "enter the name of guests: raviteja\n",
            "Guests are:  [['karthik'], ['raju'], ['ravi'], ['ramesh'], ['raviteja']]\n",
            "\n",
            "Fashionable late persons are:  ['ravi']\n",
            "\n",
            "Fashionable late persons are:  ['ramesh']\n"
          ]
        }
      ]
    },
    {
      "cell_type": "code",
      "metadata": {
        "colab": {
          "base_uri": "https://localhost:8080/"
        },
        "id": "QAiRTIRMhBmL",
        "outputId": "5b17cd2c-850b-474e-fdd5-0fdf6a7074f9"
      },
      "source": [
        "def word_search_2(title_list, keyword):\n",
        "    # make lowercase and remove punctuation\n",
        "    keyword = keyword.lower().strip('.,')\n",
        "\n",
        "    result_list = []\n",
        "    for i, title in enumerate(title_list):\n",
        "        # make lowercase and remove punctuation, then split into words\n",
        "        words = title.lower().strip('.,').split()\n",
        "\n",
        "        if keyword in words:\n",
        "            result_list.append((i, title))\n",
        "\n",
        "    return result_list\n",
        "\n",
        "if __name__ == '__main__':\n",
        "    docs = [\n",
        "        'The Learn Python Challenge Casino',\n",
        "        'They bought a car, and a horse',\n",
        "        'The big casino.',\n",
        "        'Casinoville?',\n",
        "    ]\n",
        "    w = 'casino'\n",
        "\n",
        "    print(word_search_2(docs, w))"
      ],
      "execution_count": 9,
      "outputs": [
        {
          "output_type": "stream",
          "name": "stdout",
          "text": [
            "[(0, 'The Learn Python Challenge Casino'), (2, 'The big casino.')]\n"
          ]
        }
      ]
    },
    {
      "cell_type": "code",
      "metadata": {
        "colab": {
          "base_uri": "https://localhost:8080/"
        },
        "id": "rxIbktZkh11D",
        "outputId": "da1fdebf-4b20-4b90-f0ac-2755443f79fb"
      },
      "source": [
        "BP = float(input(\"Enter the Basic Pay: \"))\n",
        "DA = (40*BP)/100\n",
        "HRA = (20*BP)/100\n",
        "GP = BP + DA + HRA\n",
        "print('Gross pay is:',GP)"
      ],
      "execution_count": 10,
      "outputs": [
        {
          "output_type": "stream",
          "name": "stdout",
          "text": [
            "Enter the Basic Pay: 60000\n",
            "Gross pay is: 96000.0\n"
          ]
        }
      ]
    }
  ]
}